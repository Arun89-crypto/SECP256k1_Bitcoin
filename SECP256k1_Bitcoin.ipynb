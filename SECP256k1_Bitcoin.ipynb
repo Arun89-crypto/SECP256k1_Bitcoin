{
  "nbformat": 4,
  "nbformat_minor": 0,
  "metadata": {
    "colab": {
      "provenance": [],
      "authorship_tag": "ABX9TyOlJb1PnmveknRMlJ/ZtFaj",
      "include_colab_link": true
    },
    "kernelspec": {
      "name": "python3",
      "display_name": "Python 3"
    },
    "language_info": {
      "name": "python"
    }
  },
  "cells": [
    {
      "cell_type": "markdown",
      "metadata": {
        "id": "view-in-github",
        "colab_type": "text"
      },
      "source": [
        "<a href=\"https://colab.research.google.com/github/Arun89-crypto/SECP256k1_Bitcoin/blob/main/SECP256k1_Bitcoin.ipynb\" target=\"_parent\"><img src=\"https://colab.research.google.com/assets/colab-badge.svg\" alt=\"Open In Colab\"/></a>"
      ]
    },
    {
      "cell_type": "markdown",
      "source": [
        "## SECP256k1\n",
        "\n",
        "This is the cryptography algorithm used in bitcoin to generate public and private keys.\n",
        "\n",
        "Bitcoin uses SECP256k1 C-language library to use this encryption in the Bitcoin operating system.\n",
        "\n",
        "<img src=\"https://matt-rickard.ghost.io/content/images/2022/03/Screen-Shot-2022-03-26-at-10.20.33-AM.png\" width=\"350px\"></img>"
      ],
      "metadata": {
        "id": "7t8JIydQJDgy"
      }
    },
    {
      "cell_type": "markdown",
      "source": [
        "```sh\n",
        "pip3 install pycryptodome\n",
        "```"
      ],
      "metadata": {
        "id": "5r1JHokCJvwp"
      }
    },
    {
      "cell_type": "code",
      "source": [
        "!pip install pycryptodome"
      ],
      "metadata": {
        "colab": {
          "base_uri": "https://localhost:8080/"
        },
        "id": "LZe2spUnKQIb",
        "outputId": "3628d04a-d693-4f11-b337-ec7afe31a848"
      },
      "execution_count": 3,
      "outputs": [
        {
          "output_type": "stream",
          "name": "stdout",
          "text": [
            "Looking in indexes: https://pypi.org/simple, https://us-python.pkg.dev/colab-wheels/public/simple/\n",
            "Collecting pycryptodome\n",
            "  Downloading pycryptodome-3.17-cp35-abi3-manylinux_2_17_x86_64.manylinux2014_x86_64.whl (2.1 MB)\n",
            "\u001b[2K     \u001b[90m━━━━━━━━━━━━━━━━━━━━━━━━━━━━━━━━━━━━━━━━\u001b[0m \u001b[32m2.1/2.1 MB\u001b[0m \u001b[31m26.8 MB/s\u001b[0m eta \u001b[36m0:00:00\u001b[0m\n",
            "\u001b[?25hInstalling collected packages: pycryptodome\n",
            "Successfully installed pycryptodome-3.17\n"
          ]
        }
      ]
    },
    {
      "cell_type": "code",
      "execution_count": 4,
      "metadata": {
        "id": "pXeem-G-I_lE"
      },
      "outputs": [],
      "source": [
        "from Crypto.Cipher import PKCS1_OAEP\n",
        "from Crypto.PublicKey import RSA\n",
        "from binascii import hexlify"
      ]
    },
    {
      "cell_type": "code",
      "source": [
        "message = b\"This is the last message from earth :)\"\n",
        "\n",
        "# Generating 1024 bit RSA Private Key\n",
        "private_key = RSA.generate(1024)\n",
        "# Generating Public Key from Private Key\n",
        "public_key = private_key.publickey()\n",
        "\n",
        "\n",
        "# string types returned -> RSA keys generation successful\n",
        "print(type(private_key), type(public_key))"
      ],
      "metadata": {
        "colab": {
          "base_uri": "https://localhost:8080/"
        },
        "id": "t2APo2sdKXYm",
        "outputId": "a486ee4b-5eb2-43e7-b4b9-52583d6de0e8"
      },
      "execution_count": 8,
      "outputs": [
        {
          "output_type": "stream",
          "name": "stdout",
          "text": [
            "<class 'Crypto.PublicKey.RSA.RsaKey'> <class 'Crypto.PublicKey.RSA.RsaKey'>\n"
          ]
        }
      ]
    },
    {
      "cell_type": "markdown",
      "source": [
        "Generating PEM keys"
      ],
      "metadata": {
        "id": "F6MYz19rLDQ2"
      }
    },
    {
      "cell_type": "code",
      "source": [
        "private_pem = private_key.export_key().decode()\n",
        "public_pem = public_key.export_key().decode()\n",
        "\n",
        "print(type(private_pem), type(public_pem))\n",
        "\n",
        "# Generating PEM files\n",
        "# --------------------\n",
        "\n",
        "with open('private.pem', 'w') as pr:\n",
        "\tpr.write(private_pem)\n",
        "with open('public.pem', 'w') as pu:\n",
        "\tpu.write(public_pem)\n",
        " \n",
        "'''\n",
        "Here the keys will be generated you can check by printing them :\n",
        "\n",
        "print('private.pem:')\n",
        "with open('private.pem', 'r') as f:\n",
        "\tprint(f.read())\n",
        "\n",
        "print('public.pem:')\n",
        "with open('public.pem', 'r') as f:\n",
        "        print(f.read())\n",
        "\n",
        "'''"
      ],
      "metadata": {
        "colab": {
          "base_uri": "https://localhost:8080/",
          "height": 71
        },
        "id": "s3LwddLpLJQz",
        "outputId": "51e5996e-a83a-49e9-b75b-1308a46177c9"
      },
      "execution_count": 9,
      "outputs": [
        {
          "output_type": "stream",
          "name": "stdout",
          "text": [
            "<class 'str'> <class 'str'>\n"
          ]
        },
        {
          "output_type": "execute_result",
          "data": {
            "text/plain": [
              "\"\\nHere the keys will be generated you can check by printing them :\\n\\nprint('private.pem:')\\nwith open('private.pem', 'r') as f:\\n\\tprint(f.read())\\n\\nprint('public.pem:')\\nwith open('public.pem', 'r') as f:\\n        print(f.read())\\n\\n\""
            ],
            "application/vnd.google.colaboratory.intrinsic+json": {
              "type": "string"
            }
          },
          "metadata": {},
          "execution_count": 9
        }
      ]
    },
    {
      "cell_type": "markdown",
      "source": [
        "Converting these pem keys back to rsa in order to perform encryption"
      ],
      "metadata": {
        "id": "1Bv6clTlLyIq"
      }
    },
    {
      "cell_type": "code",
      "source": [
        "pr_key = RSA.import_key(open('private.pem', 'r').read())\n",
        "pu_key = RSA.import_key(open('public.pem', 'r').read())\n",
        "\n",
        "\n",
        "# To verify\n",
        "# print(type(pr_key), type(pu_key))\n",
        "\n",
        "cipher = PKCS1_OAEP.new(key=pu_key)\n",
        "cipher_text = cipher.encrypt(message)\n",
        "\n",
        "print(cipher_text)"
      ],
      "metadata": {
        "colab": {
          "base_uri": "https://localhost:8080/"
        },
        "id": "PQYzEzVKL3pP",
        "outputId": "93fa7160-fd97-4cd7-eb09-2223f104a8dc"
      },
      "execution_count": 10,
      "outputs": [
        {
          "output_type": "stream",
          "name": "stdout",
          "text": [
            "b\"\\xb0|\\n\\x04u\\xcb\\xae\\xf5D\\xc6\\xd7\\xdc\\x01\\xe3d\\x8b\\x89S,\\xeb\\xd5\\xf6\\xbe\\xfb1\\n\\xacz\\xb7]\\xea\\x02\\xd0\\x8aZn\\x86\\x1bv\\x0e\\x88>\\xd4Uh\\x06Pe\\xea\\x17\\xc1\\x0cw\\xbdS\\xff\\xd1\\xc9Y\\x89\\xa4\\t\\xcd\\\\\\xb7\\x05\\xb2\\x15\\x97\\x9b\\x9ee\\xe6\\xe5\\xcc)\\xebv\\xd6\\xcf'\\xf6\\x15\\x9d~\\xe1BDm\\xac\\x8a\\xb2Q\\xf2\\xf1V\\x8b\\xf0?\\x8f}\\x1e\\xf3\\xc05\\xc2\\xb1`\\x06.\\xa2\\x8b\\x16\\xce\\x1d\\x10\\xd0X\\x7fM\\x84\\xc5\\xf3\\xc2\\x1c]\\xa8)\"\n"
          ]
        }
      ]
    },
    {
      "cell_type": "markdown",
      "source": [
        "Decrypting"
      ],
      "metadata": {
        "id": "aC-9lcGUMeiC"
      }
    },
    {
      "cell_type": "code",
      "source": [
        "decrypt = PKCS1_OAEP.new(key=pr_key)\n",
        "decrypted_message = decrypt.decrypt(cipher_text)\n",
        "\n",
        "print(decrypted_message)"
      ],
      "metadata": {
        "colab": {
          "base_uri": "https://localhost:8080/"
        },
        "id": "znMFtloWMgIg",
        "outputId": "344f7441-7e7a-4e32-e4c9-092ee983cb4b"
      },
      "execution_count": 11,
      "outputs": [
        {
          "output_type": "stream",
          "name": "stdout",
          "text": [
            "b'This is the last message from earth :)'\n"
          ]
        }
      ]
    },
    {
      "cell_type": "markdown",
      "source": [
        "This is how ECC SECP256k1 algorithm works."
      ],
      "metadata": {
        "id": "A5XW83d0MrUz"
      }
    }
  ]
}